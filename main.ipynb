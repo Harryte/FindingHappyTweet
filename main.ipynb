{
 "cells": [
  {
   "cell_type": "code",
   "execution_count": 1,
   "id": "9a85ede6",
   "metadata": {},
   "outputs": [],
   "source": [
    "import tweepy\n",
    "import webbrowser\n",
    "import time\n",
    "import re\n",
    "from collections import Counter\n",
    "import twitter_credentials as credenitals\n",
    "import datetime"
   ]
  },
  {
   "cell_type": "code",
   "execution_count": null,
   "id": "c5860a86",
   "metadata": {},
   "outputs": [],
   "source": [
    "#twitter_credentials file sample\n",
    "# API_KEY = \"\"\n",
    "# API_SECRETE_KEY = \"\"\n",
    "# ACCESS_TOKEN = \"\"\n",
    "# ACCESS_TOKEN_SECRET = \"\""
   ]
  },
  {
   "cell_type": "code",
   "execution_count": 2,
   "id": "64022a02",
   "metadata": {},
   "outputs": [],
   "source": [
    "callback_uri= 'oob'\n",
    "auth = tweepy.OAuthHandler(credenitals.API_KEY, credenitals.API_SECRETE_KEY, callback_uri)\n",
    "auth.set_access_token(credenitals.ACCESS_TOKEN,credenitals.ACCESS_TOKEN_SECRET)\n",
    "api = tweepy.API(auth)\n",
    "home_timeline = api.home_timeline()"
   ]
  },
  {
   "cell_type": "code",
   "execution_count": 8,
   "id": "090b3de1",
   "metadata": {},
   "outputs": [],
   "source": [
    "# home_timeline[0]._json"
   ]
  },
  {
   "cell_type": "code",
   "execution_count": 3,
   "id": "992611e1",
   "metadata": {},
   "outputs": [
    {
     "name": "stdout",
     "output_type": "stream",
     "text": [
      "2021-06-24 14:05:00\n",
      "2021-06-24 14:04:13\n",
      "2021-06-24 14:00:12\n",
      "2021-06-24 13:59:01\n",
      "2021-06-24 13:47:59\n",
      "2021-06-24 13:45:00\n",
      "2021-06-24 13:44:51\n",
      "2021-06-24 13:28:38\n",
      "2021-06-24 13:27:54\n",
      "2021-06-24 13:25:50\n",
      "2021-06-24 13:15:35\n",
      "2021-06-24 12:06:41\n",
      "2021-06-24 11:48:09\n",
      "2021-06-24 11:22:38\n",
      "2021-06-24 11:00:00\n",
      "2021-06-24 10:37:27\n",
      "2021-06-24 10:37:21\n",
      "2021-06-24 10:37:19\n",
      "2021-06-24 10:29:26\n",
      "2021-06-24 10:20:41\n"
     ]
    }
   ],
   "source": [
    "for status in home_timeline:\n",
    "    print(status.created_at)\n",
    "#     print(status.text)"
   ]
  },
  {
   "cell_type": "code",
   "execution_count": 35,
   "id": "d63852eb",
   "metadata": {},
   "outputs": [],
   "source": [
    "class MyStreamListener(tweepy.StreamListener):\n",
    "    def __init__(self, time_limit=3600, stream_limit=60):\n",
    "        self.stream_limit = (datetime.datetime.utcnow() + datetime.timedelta(seconds=stream_limit))\n",
    "        self.limit = (datetime.datetime.utcnow() - datetime.timedelta(seconds=time_limit))\n",
    "        self.happy_hastag_list = []\n",
    "        super(MyStreamListener, self).__init__()\n",
    "\n",
    "#     def on_data(self, status):\n",
    "#         if (status.created_at) > self.limit:\n",
    "#             for i in status.entities['hashtags']:\n",
    "#                 print(i['text'])\n",
    "#                 self.happy_hastag_list.append(i['text'])\n",
    "#             return True\n",
    "#         else:\n",
    "#             return False\n",
    "    \n",
    "    def on_status(self, status):\n",
    "        if (status.created_at > self.limit) and (datetime.datetime.utcnow() <= self.stream_limit)  :\n",
    "            for i in status.entities['hashtags']:\n",
    "                print(i['text'])\n",
    "                self.happy_hastag_list.append(i['text'])\n",
    "            return True\n",
    "        else:\n",
    "            return False\n",
    "    \n",
    "    def on_error(self, status_code):\n",
    "        if status_code == 420:\n",
    "            #returning False in on_error disconnects the stream\n",
    "            return False"
   ]
  },
  {
   "cell_type": "code",
   "execution_count": 5,
   "id": "e64001c9",
   "metadata": {},
   "outputs": [],
   "source": [
    "def find_happiest_hashtag_from_list(hashtag_list):\n",
    "    Counter(hashtag_list)\n",
    "    hashtag_dict = Counter(hashtag_list)\n",
    "    hashtag_dict = dict(hashtag_dict)\n",
    "    happiest_hashtag = max(hashtag_dict, key=lambda k: hashtag_dict[k])\n",
    "    print(happiest_hashtag)\n",
    "    return happiest_hashtag"
   ]
  },
  {
   "cell_type": "code",
   "execution_count": 41,
   "id": "b2183833",
   "metadata": {},
   "outputs": [
    {
     "name": "stdout",
     "output_type": "stream",
     "text": [
      "RuriH_art\n",
      "RuriH_live\n",
      "SomethingPhenomenal\n",
      "CBEk40BinEmeğeSahipÇık\n",
      "dreamfanart\n",
      "dreamsmpfanart\n",
      "dreamsmp\n",
      "dreamwastaken\n",
      "แปลรัก2ตอนจบ\n"
     ]
    }
   ],
   "source": [
    "myStreamListener = MyStreamListener(3600, 10)\n",
    "myStream = tweepy.Stream(auth = api.auth, listener=myStreamListener)\n",
    "myStream.filter(track=[':)'])"
   ]
  },
  {
   "cell_type": "code",
   "execution_count": 39,
   "id": "81e5c60d",
   "metadata": {},
   "outputs": [
    {
     "ename": "TypeError",
     "evalue": "the JSON object must be str, bytes or bytearray, not Status",
     "output_type": "error",
     "traceback": [
      "\u001b[1;31m---------------------------------------------------------------------------\u001b[0m",
      "\u001b[1;31mTypeError\u001b[0m                                 Traceback (most recent call last)",
      "\u001b[1;32m<ipython-input-39-dcb66e76044c>\u001b[0m in \u001b[0;36m<module>\u001b[1;34m\u001b[0m\n\u001b[0;32m      4\u001b[0m \u001b[1;32mfor\u001b[0m \u001b[0mstatus\u001b[0m \u001b[1;32min\u001b[0m \u001b[0mhome_timeline\u001b[0m\u001b[1;33m:\u001b[0m\u001b[1;33m\u001b[0m\u001b[1;33m\u001b[0m\u001b[0m\n\u001b[0;32m      5\u001b[0m \u001b[1;31m#     print(type(status))\u001b[0m\u001b[1;33m\u001b[0m\u001b[1;33m\u001b[0m\u001b[1;33m\u001b[0m\u001b[0m\n\u001b[1;32m----> 6\u001b[1;33m     \u001b[0mmyStreamListener\u001b[0m\u001b[1;33m.\u001b[0m\u001b[0mon_data\u001b[0m\u001b[1;33m(\u001b[0m\u001b[0mstatus\u001b[0m\u001b[1;33m)\u001b[0m\u001b[1;33m\u001b[0m\u001b[1;33m\u001b[0m\u001b[0m\n\u001b[0m",
      "\u001b[1;32mC:\\ProgramData\\Anaconda3\\lib\\site-packages\\tweepy\\streaming.py\u001b[0m in \u001b[0;36mon_data\u001b[1;34m(self, raw_data)\u001b[0m\n\u001b[0;32m     48\u001b[0m         \u001b[0mthe\u001b[0m \u001b[0mstream\u001b[0m \u001b[0mdata\u001b[0m\u001b[1;33m.\u001b[0m \u001b[0mReturn\u001b[0m \u001b[1;32mFalse\u001b[0m \u001b[0mto\u001b[0m \u001b[0mstop\u001b[0m \u001b[0mstream\u001b[0m \u001b[1;32mand\u001b[0m \u001b[0mclose\u001b[0m \u001b[0mconnection\u001b[0m\u001b[1;33m.\u001b[0m\u001b[1;33m\u001b[0m\u001b[1;33m\u001b[0m\u001b[0m\n\u001b[0;32m     49\u001b[0m         \"\"\"\n\u001b[1;32m---> 50\u001b[1;33m         \u001b[0mdata\u001b[0m \u001b[1;33m=\u001b[0m \u001b[0mjson\u001b[0m\u001b[1;33m.\u001b[0m\u001b[0mloads\u001b[0m\u001b[1;33m(\u001b[0m\u001b[0mraw_data\u001b[0m\u001b[1;33m)\u001b[0m\u001b[1;33m\u001b[0m\u001b[1;33m\u001b[0m\u001b[0m\n\u001b[0m\u001b[0;32m     51\u001b[0m \u001b[1;33m\u001b[0m\u001b[0m\n\u001b[0;32m     52\u001b[0m         \u001b[1;32mif\u001b[0m \u001b[1;34m'in_reply_to_status_id'\u001b[0m \u001b[1;32min\u001b[0m \u001b[0mdata\u001b[0m\u001b[1;33m:\u001b[0m\u001b[1;33m\u001b[0m\u001b[1;33m\u001b[0m\u001b[0m\n",
      "\u001b[1;32mC:\\ProgramData\\Anaconda3\\lib\\json\\__init__.py\u001b[0m in \u001b[0;36mloads\u001b[1;34m(s, cls, object_hook, parse_float, parse_int, parse_constant, object_pairs_hook, **kw)\u001b[0m\n\u001b[0;32m    339\u001b[0m     \u001b[1;32melse\u001b[0m\u001b[1;33m:\u001b[0m\u001b[1;33m\u001b[0m\u001b[1;33m\u001b[0m\u001b[0m\n\u001b[0;32m    340\u001b[0m         \u001b[1;32mif\u001b[0m \u001b[1;32mnot\u001b[0m \u001b[0misinstance\u001b[0m\u001b[1;33m(\u001b[0m\u001b[0ms\u001b[0m\u001b[1;33m,\u001b[0m \u001b[1;33m(\u001b[0m\u001b[0mbytes\u001b[0m\u001b[1;33m,\u001b[0m \u001b[0mbytearray\u001b[0m\u001b[1;33m)\u001b[0m\u001b[1;33m)\u001b[0m\u001b[1;33m:\u001b[0m\u001b[1;33m\u001b[0m\u001b[1;33m\u001b[0m\u001b[0m\n\u001b[1;32m--> 341\u001b[1;33m             raise TypeError(f'the JSON object must be str, bytes or bytearray, '\n\u001b[0m\u001b[0;32m    342\u001b[0m                             f'not {s.__class__.__name__}')\n\u001b[0;32m    343\u001b[0m         \u001b[0ms\u001b[0m \u001b[1;33m=\u001b[0m \u001b[0ms\u001b[0m\u001b[1;33m.\u001b[0m\u001b[0mdecode\u001b[0m\u001b[1;33m(\u001b[0m\u001b[0mdetect_encoding\u001b[0m\u001b[1;33m(\u001b[0m\u001b[0ms\u001b[0m\u001b[1;33m)\u001b[0m\u001b[1;33m,\u001b[0m \u001b[1;34m'surrogatepass'\u001b[0m\u001b[1;33m)\u001b[0m\u001b[1;33m\u001b[0m\u001b[1;33m\u001b[0m\u001b[0m\n",
      "\u001b[1;31mTypeError\u001b[0m: the JSON object must be str, bytes or bytearray, not Status"
     ]
    }
   ],
   "source": [
    "#Since my Twitter APP is blocked reading the tweet status from Timeline\n",
    "\n",
    "myStreamListener = MyStreamListener()\n",
    "for status in home_timeline:\n",
    "#     print(type(status))\n",
    "    myStreamListener.on_data(status)"
   ]
  },
  {
   "cell_type": "code",
   "execution_count": 42,
   "id": "70e770eb",
   "metadata": {},
   "outputs": [
    {
     "name": "stdout",
     "output_type": "stream",
     "text": [
      "RuriH_art\n"
     ]
    },
    {
     "data": {
      "text/plain": [
       "'RuriH_art'"
      ]
     },
     "execution_count": 42,
     "metadata": {},
     "output_type": "execute_result"
    }
   ],
   "source": [
    "find_happiest_hashtag_from_list(myStreamListener.happy_hastag_list)"
   ]
  },
  {
   "cell_type": "code",
   "execution_count": 13,
   "id": "316e1e18",
   "metadata": {},
   "outputs": [
    {
     "data": {
      "text/plain": [
       "['IUvMS',\n",
       " 'PSL6',\n",
       " 'OnThisDay',\n",
       " 'WTCFinal',\n",
       " 'INDvNZ',\n",
       " 'OnThisDay',\n",
       " 'ESPN',\n",
       " 'ESPN',\n",
       " 'IPLvsNZ',\n",
       " 'ESPN',\n",
       " 'WTCFinal']"
      ]
     },
     "execution_count": 13,
     "metadata": {},
     "output_type": "execute_result"
    }
   ],
   "source": [
    "myStreamListener.happy_hastag_list"
   ]
  },
  {
   "cell_type": "code",
   "execution_count": null,
   "id": "b4aec7e6",
   "metadata": {},
   "outputs": [],
   "source": []
  },
  {
   "cell_type": "code",
   "execution_count": null,
   "id": "c5e5ea70",
   "metadata": {},
   "outputs": [],
   "source": []
  },
  {
   "cell_type": "code",
   "execution_count": null,
   "id": "56071a0a",
   "metadata": {},
   "outputs": [],
   "source": []
  }
 ],
 "metadata": {
  "interpreter": {
   "hash": "b3ba2566441a7c06988d0923437866b63cedc61552a5af99d1f4fb67d367b25f"
  },
  "kernelspec": {
   "display_name": "Python 3",
   "language": "python",
   "name": "python3"
  },
  "language_info": {
   "codemirror_mode": {
    "name": "ipython",
    "version": 3
   },
   "file_extension": ".py",
   "mimetype": "text/x-python",
   "name": "python",
   "nbconvert_exporter": "python",
   "pygments_lexer": "ipython3",
   "version": "3.8.8"
  }
 },
 "nbformat": 4,
 "nbformat_minor": 5
}
