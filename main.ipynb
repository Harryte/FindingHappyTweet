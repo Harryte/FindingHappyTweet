{
 "cells": [
  {
   "cell_type": "code",
   "execution_count": 3,
   "id": "9a85ede6",
   "metadata": {},
   "outputs": [],
   "source": [
    "import tweepy\n",
    "import webbrowser\n",
    "import time\n",
    "import re\n",
    "from collections import Counter\n",
    "import twitter_credentials as credenitals\n",
    "import datetime"
   ]
  },
  {
   "cell_type": "code",
   "execution_count": null,
   "metadata": {},
   "outputs": [],
   "source": [
    "#twitter_credentials file sample\n",
    "# API_KEY = \"\"\n",
    "# API_SECRETE_KEY = \"\"\n",
    "# ACCESS_TOKEN = \"\"\n",
    "# ACCESS_TOKEN_SECRET = \"\""
   ]
  },
  {
   "cell_type": "code",
   "execution_count": 4,
   "id": "64022a02",
   "metadata": {},
   "outputs": [],
   "source": [
    "callback_uri= 'oob'\n",
    "auth = tweepy.OAuthHandler(credenitals.API_KEY, credenitals.API_SECRETE_KEY, callback_uri)\n",
    "auth.set_access_token(credenitals.ACCESS_TOKEN,credenitals.ACCESS_TOKEN_SECRET)\n",
    "api = tweepy.API(auth)\n",
    "home_timeline = api.home_timeline()"
   ]
  },
  {
   "cell_type": "code",
   "execution_count": 8,
   "id": "090b3de1",
   "metadata": {},
   "outputs": [],
   "source": [
    "# home_timeline[0]._json"
   ]
  },
  {
   "cell_type": "code",
   "execution_count": 5,
   "id": "992611e1",
   "metadata": {},
   "outputs": [
    {
     "output_type": "stream",
     "name": "stdout",
     "text": [
      "2021-06-21 14:57:09\n2021-06-21 14:50:33\n2021-06-21 14:47:13\n2021-06-21 14:44:23\n2021-06-21 14:43:46\n2021-06-21 14:38:24\n2021-06-21 14:37:50\n2021-06-21 14:37:34\n2021-06-21 14:31:06\n2021-06-21 14:30:00\n2021-06-21 14:23:39\n2021-06-21 14:18:36\n2021-06-21 14:14:39\n2021-06-21 14:07:37\n2021-06-21 14:07:16\n2021-06-21 14:06:18\n2021-06-21 14:01:31\n2021-06-21 14:00:55\n2021-06-21 13:59:36\n"
     ]
    }
   ],
   "source": [
    "for status in home_timeline:\n",
    "    print(status.created_at)\n",
    "#     print(status.text)"
   ]
  },
  {
   "cell_type": "code",
   "execution_count": 6,
   "id": "d63852eb",
   "metadata": {},
   "outputs": [],
   "source": [
    "class MyStreamListener(tweepy.StreamListener):\n",
    "    def __init__(self, time_limit=3600):\n",
    "        self.limit = (datetime.datetime.utcnow() - datetime.timedelta(seconds=time_limit))\n",
    "        self.happy_hastag_list = []\n",
    "        super(MyStreamListener, self).__init__()\n",
    "\n",
    "    def on_data(self, status):\n",
    "        if (status.created_at) > self.limit:\n",
    "            for i in status.entities['hashtags']:\n",
    "                print(i['text'])\n",
    "                self.happy_hastag_list.append(i['text'])\n",
    "            return True\n",
    "        else:\n",
    "            return False\n",
    "    \n",
    "    def on_error(self, status_code):\n",
    "        if status_code == 420:\n",
    "            #returning False in on_error disconnects the stream\n",
    "            return False"
   ]
  },
  {
   "cell_type": "code",
   "execution_count": 7,
   "id": "e64001c9",
   "metadata": {},
   "outputs": [],
   "source": [
    "def find_happiest_hashtag_from_list(hashtag_list):\n",
    "    Counter(hashtag_list)\n",
    "    hashtag_dict = Counter(hashtag_list)\n",
    "    hashtag_dict = dict(hashtag_dict)\n",
    "    happiest_hashtag = max(hashtag_dict, key=lambda k: hashtag_dict[k])\n",
    "    print(happiest_hashtag)\n",
    "    return happiest_hashtag"
   ]
  },
  {
   "cell_type": "code",
   "execution_count": 8,
   "id": "b2183833",
   "metadata": {},
   "outputs": [
    {
     "output_type": "error",
     "ename": "KeyboardInterrupt",
     "evalue": "",
     "traceback": [
      "\u001b[1;31m---------------------------------------------------------------------------\u001b[0m",
      "\u001b[1;31mKeyboardInterrupt\u001b[0m                         Traceback (most recent call last)",
      "\u001b[1;32m<ipython-input-8-9270290f060b>\u001b[0m in \u001b[0;36m<module>\u001b[1;34m\u001b[0m\n\u001b[0;32m      1\u001b[0m \u001b[0mmyStreamListener\u001b[0m \u001b[1;33m=\u001b[0m \u001b[0mMyStreamListener\u001b[0m\u001b[1;33m(\u001b[0m\u001b[1;33m)\u001b[0m\u001b[1;33m\u001b[0m\u001b[1;33m\u001b[0m\u001b[0m\n\u001b[0;32m      2\u001b[0m \u001b[0mmyStream\u001b[0m \u001b[1;33m=\u001b[0m \u001b[0mtweepy\u001b[0m\u001b[1;33m.\u001b[0m\u001b[0mStream\u001b[0m\u001b[1;33m(\u001b[0m\u001b[0mauth\u001b[0m \u001b[1;33m=\u001b[0m \u001b[0mapi\u001b[0m\u001b[1;33m.\u001b[0m\u001b[0mauth\u001b[0m\u001b[1;33m,\u001b[0m \u001b[0mlistener\u001b[0m\u001b[1;33m=\u001b[0m\u001b[0mmyStreamListener\u001b[0m\u001b[1;33m)\u001b[0m\u001b[1;33m\u001b[0m\u001b[1;33m\u001b[0m\u001b[0m\n\u001b[1;32m----> 3\u001b[1;33m \u001b[0mmyStream\u001b[0m\u001b[1;33m.\u001b[0m\u001b[0mfilter\u001b[0m\u001b[1;33m(\u001b[0m\u001b[0mtrack\u001b[0m\u001b[1;33m=\u001b[0m\u001b[1;33m[\u001b[0m\u001b[1;34m':)'\u001b[0m\u001b[1;33m]\u001b[0m\u001b[1;33m)\u001b[0m\u001b[1;33m\u001b[0m\u001b[1;33m\u001b[0m\u001b[0m\n\u001b[0m",
      "\u001b[1;32mC:\\ProgramData\\Anaconda3\\lib\\site-packages\\tweepy\\streaming.py\u001b[0m in \u001b[0;36mfilter\u001b[1;34m(self, follow, track, is_async, locations, stall_warnings, languages, encoding, filter_level)\u001b[0m\n\u001b[0;32m    472\u001b[0m             \u001b[0mself\u001b[0m\u001b[1;33m.\u001b[0m\u001b[0mbody\u001b[0m\u001b[1;33m[\u001b[0m\u001b[1;34m'filter_level'\u001b[0m\u001b[1;33m]\u001b[0m \u001b[1;33m=\u001b[0m \u001b[0mfilter_level\u001b[0m\u001b[1;33m.\u001b[0m\u001b[0mencode\u001b[0m\u001b[1;33m(\u001b[0m\u001b[0mencoding\u001b[0m\u001b[1;33m)\u001b[0m\u001b[1;33m\u001b[0m\u001b[1;33m\u001b[0m\u001b[0m\n\u001b[0;32m    473\u001b[0m         \u001b[0mself\u001b[0m\u001b[1;33m.\u001b[0m\u001b[0msession\u001b[0m\u001b[1;33m.\u001b[0m\u001b[0mparams\u001b[0m \u001b[1;33m=\u001b[0m \u001b[1;33m{\u001b[0m\u001b[1;34m'delimited'\u001b[0m\u001b[1;33m:\u001b[0m \u001b[1;34m'length'\u001b[0m\u001b[1;33m}\u001b[0m\u001b[1;33m\u001b[0m\u001b[1;33m\u001b[0m\u001b[0m\n\u001b[1;32m--> 474\u001b[1;33m         \u001b[0mself\u001b[0m\u001b[1;33m.\u001b[0m\u001b[0m_start\u001b[0m\u001b[1;33m(\u001b[0m\u001b[0mis_async\u001b[0m\u001b[1;33m)\u001b[0m\u001b[1;33m\u001b[0m\u001b[1;33m\u001b[0m\u001b[0m\n\u001b[0m\u001b[0;32m    475\u001b[0m \u001b[1;33m\u001b[0m\u001b[0m\n\u001b[0;32m    476\u001b[0m     def sitestream(self, follow, stall_warnings=False,\n",
      "\u001b[1;32mC:\\ProgramData\\Anaconda3\\lib\\site-packages\\tweepy\\streaming.py\u001b[0m in \u001b[0;36m_start\u001b[1;34m(self, is_async)\u001b[0m\n\u001b[0;32m    387\u001b[0m             \u001b[0mself\u001b[0m\u001b[1;33m.\u001b[0m\u001b[0m_thread\u001b[0m\u001b[1;33m.\u001b[0m\u001b[0mstart\u001b[0m\u001b[1;33m(\u001b[0m\u001b[1;33m)\u001b[0m\u001b[1;33m\u001b[0m\u001b[1;33m\u001b[0m\u001b[0m\n\u001b[0;32m    388\u001b[0m         \u001b[1;32melse\u001b[0m\u001b[1;33m:\u001b[0m\u001b[1;33m\u001b[0m\u001b[1;33m\u001b[0m\u001b[0m\n\u001b[1;32m--> 389\u001b[1;33m             \u001b[0mself\u001b[0m\u001b[1;33m.\u001b[0m\u001b[0m_run\u001b[0m\u001b[1;33m(\u001b[0m\u001b[1;33m)\u001b[0m\u001b[1;33m\u001b[0m\u001b[1;33m\u001b[0m\u001b[0m\n\u001b[0m\u001b[0;32m    390\u001b[0m \u001b[1;33m\u001b[0m\u001b[0m\n\u001b[0;32m    391\u001b[0m     \u001b[1;32mdef\u001b[0m \u001b[0mon_closed\u001b[0m\u001b[1;33m(\u001b[0m\u001b[0mself\u001b[0m\u001b[1;33m,\u001b[0m \u001b[0mresp\u001b[0m\u001b[1;33m)\u001b[0m\u001b[1;33m:\u001b[0m\u001b[1;33m\u001b[0m\u001b[1;33m\u001b[0m\u001b[0m\n",
      "\u001b[1;32mC:\\ProgramData\\Anaconda3\\lib\\site-packages\\tweepy\\streaming.py\u001b[0m in \u001b[0;36m_run\u001b[1;34m(self)\u001b[0m\n\u001b[0;32m    279\u001b[0m                         self.retry_time = max(self.retry_420_start,\n\u001b[0;32m    280\u001b[0m                                               self.retry_time)\n\u001b[1;32m--> 281\u001b[1;33m                     \u001b[0msleep\u001b[0m\u001b[1;33m(\u001b[0m\u001b[0mself\u001b[0m\u001b[1;33m.\u001b[0m\u001b[0mretry_time\u001b[0m\u001b[1;33m)\u001b[0m\u001b[1;33m\u001b[0m\u001b[1;33m\u001b[0m\u001b[0m\n\u001b[0m\u001b[0;32m    282\u001b[0m                     self.retry_time = min(self.retry_time * 2,\n\u001b[0;32m    283\u001b[0m                                           self.retry_time_cap)\n",
      "\u001b[1;31mKeyboardInterrupt\u001b[0m: "
     ]
    }
   ],
   "source": [
    "myStreamListener = MyStreamListener()\n",
    "myStream = tweepy.Stream(auth = api.auth, listener=myStreamListener)\n",
    "myStream.filter(track=[':)'])"
   ]
  },
  {
   "cell_type": "code",
   "execution_count": 11,
   "id": "81e5c60d",
   "metadata": {},
   "outputs": [
    {
     "output_type": "stream",
     "name": "stdout",
     "text": [
      "IUvMS\nPSL6\nOnThisDay\nWTCFinal\nINDvNZ\nOnThisDay\nESPN\nESPN\nIPLvsNZ\nESPN\nWTCFinal\n"
     ]
    }
   ],
   "source": [
    "#Since my Twitter APP is blocked reading the tweet status from Timeline\n",
    "\n",
    "myStreamListener = MyStreamListener()\n",
    "for status in home_timeline:\n",
    "#     print(type(status))\n",
    "    myStreamListener.on_data(status)"
   ]
  },
  {
   "cell_type": "code",
   "execution_count": 12,
   "id": "70e770eb",
   "metadata": {},
   "outputs": [
    {
     "output_type": "stream",
     "name": "stdout",
     "text": [
      "ESPN\n"
     ]
    },
    {
     "output_type": "execute_result",
     "data": {
      "text/plain": [
       "'ESPN'"
      ]
     },
     "metadata": {},
     "execution_count": 12
    }
   ],
   "source": [
    "find_happiest_hashtag_from_list(myStreamListener.happy_hastag_list)"
   ]
  },
  {
   "cell_type": "code",
   "execution_count": 13,
   "id": "316e1e18",
   "metadata": {},
   "outputs": [
    {
     "output_type": "execute_result",
     "data": {
      "text/plain": [
       "['IUvMS',\n",
       " 'PSL6',\n",
       " 'OnThisDay',\n",
       " 'WTCFinal',\n",
       " 'INDvNZ',\n",
       " 'OnThisDay',\n",
       " 'ESPN',\n",
       " 'ESPN',\n",
       " 'IPLvsNZ',\n",
       " 'ESPN',\n",
       " 'WTCFinal']"
      ]
     },
     "metadata": {},
     "execution_count": 13
    }
   ],
   "source": [
    "myStreamListener.happy_hastag_list"
   ]
  },
  {
   "cell_type": "code",
   "execution_count": null,
   "id": "b4aec7e6",
   "metadata": {},
   "outputs": [],
   "source": []
  }
 ],
 "metadata": {
  "kernelspec": {
   "name": "python3",
   "display_name": "Python 3.8.8 64-bit ('base': conda)"
  },
  "language_info": {
   "codemirror_mode": {
    "name": "ipython",
    "version": 3
   },
   "file_extension": ".py",
   "mimetype": "text/x-python",
   "name": "python",
   "nbconvert_exporter": "python",
   "pygments_lexer": "ipython3",
   "version": "3.8.8"
  },
  "interpreter": {
   "hash": "b3ba2566441a7c06988d0923437866b63cedc61552a5af99d1f4fb67d367b25f"
  }
 },
 "nbformat": 4,
 "nbformat_minor": 5
}